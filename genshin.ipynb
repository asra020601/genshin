{
  "nbformat": 4,
  "nbformat_minor": 0,
  "metadata": {
    "colab": {
      "provenance": [],
      "authorship_tag": "ABX9TyMB/+fIOsXsv9Al3DMYGVAF",
      "include_colab_link": true
    },
    "kernelspec": {
      "name": "python3",
      "display_name": "Python 3"
    },
    "language_info": {
      "name": "python"
    }
  },
  "cells": [
    {
      "cell_type": "markdown",
      "metadata": {
        "id": "view-in-github",
        "colab_type": "text"
      },
      "source": [
        "<a href=\"https://colab.research.google.com/github/asra020601/genshin/blob/main/genshin.ipynb\" target=\"_parent\"><img src=\"https://colab.research.google.com/assets/colab-badge.svg\" alt=\"Open In Colab\"/></a>"
      ]
    },
    {
      "cell_type": "code",
      "execution_count": null,
      "metadata": {
        "id": "hb9saocmmAi3"
      },
      "outputs": [],
      "source": [
        "import warnings\n",
        "warnings.filterwarnings(\"ignore\")\n",
        "import numpy as np\n",
        "import pandas as pd\n",
        "import matplotlib.pyplot as plt\n",
        "import seaborn as sns"
      ]
    },
    {
      "cell_type": "code",
      "source": [
        "df = pd.read_csv('/content/genshin.csv')"
      ],
      "metadata": {
        "id": "7w3FwG6NmhTB"
      },
      "execution_count": null,
      "outputs": []
    },
    {
      "cell_type": "code",
      "source": [
        "df.shape"
      ],
      "metadata": {
        "colab": {
          "base_uri": "https://localhost:8080/"
        },
        "id": "KICmIyn1mlRz",
        "outputId": "f0bf9431-0e1f-4128-fbb9-784aaf6c01c7"
      },
      "execution_count": null,
      "outputs": [
        {
          "output_type": "execute_result",
          "data": {
            "text/plain": [
              "(69, 70)"
            ]
          },
          "metadata": {},
          "execution_count": 8
        }
      ]
    },
    {
      "cell_type": "code",
      "source": [
        "df.nunique()"
      ],
      "metadata": {
        "colab": {
          "base_uri": "https://localhost:8080/"
        },
        "id": "KxBzEihymoU8",
        "outputId": "b29686c0-ff75-4703-9884-2af715ee8227"
      },
      "execution_count": null,
      "outputs": [
        {
          "output_type": "execute_result",
          "data": {
            "text/plain": [
              "character_name    69\n",
              "rarity             2\n",
              "region             5\n",
              "vision             8\n",
              "weapon_type        5\n",
              "                  ..\n",
              "special_2         10\n",
              "special_3         10\n",
              "special_4         10\n",
              "special_5         10\n",
              "special_6         10\n",
              "Length: 70, dtype: int64"
            ]
          },
          "metadata": {},
          "execution_count": 9
        }
      ]
    },
    {
      "cell_type": "code",
      "source": [
        "categorical_cols = df.select_dtypes(include=\"object\").columns.tolist()\n",
        "for col in categorical_cols:\n",
        "    print(f\"{col}\", f\"Number of unique entries: {len(df[col].unique().tolist())},\")\n",
        "    print(df[col].unique().tolist())"
      ],
      "metadata": {
        "colab": {
          "base_uri": "https://localhost:8080/"
        },
        "id": "_6bOh9JymriM",
        "outputId": "0a6096bc-4031-4622-8bfb-20a6ef412099"
      },
      "execution_count": null,
      "outputs": [
        {
          "output_type": "stream",
          "name": "stdout",
          "text": [
            "character_name Number of unique entries: 69,\n",
            "['Albedo', 'Alhaitham', 'Aloy', 'Amber', 'Arataki Itto', 'Baizhu', 'Barbara', 'Beidou', 'Bennett', 'Candace', 'Chongyun', 'Collei', 'Cyno', 'Dehya', 'Diluc', 'Diona', 'Dori', 'Eula', 'Faruzan', 'Fischl', 'Ganyu', 'Gorou', 'Hu Tao', 'Jean', 'Kaedehara Kazuha', 'Kaeya', 'Kamisato Ayaka', 'Kamisato Ayato', 'Kaveh', 'Keqing', 'Kirara', 'Klee', 'Kujou Sara', 'Kuki Shinobu', 'Layla', 'Lisa', 'Mika', 'Mona', 'Nahida', 'Nilou', 'Ningguang', 'Noelle', 'Qiqi', 'Raiden Shogun', 'Razor', 'Rosaria', 'Sangonomiya Kokomi', 'Sayu', 'Shenhe', 'Shikanoin Heizou', 'Sucrose', 'Tartaglia', 'Thoma', 'Tighnari', 'Traveler (Aether)', 'Traveler (Lumine)', 'Venti', 'Wanderer', 'Xiangling', 'Xiao', 'Xingqiu', 'Xinyan', 'Yae Miko', 'Yanfei', 'Yaoyao', 'Yelan', 'Yoimiya', 'Yun Jin', 'Zhongli']\n",
            "region Number of unique entries: 6,\n",
            "['Mondstadt', 'Sumeru', nan, 'Inazuma', 'Liyue', 'Snezhnaya']\n",
            "vision Number of unique entries: 8,\n",
            "['Geo', 'Dendro', 'Cryo', 'Pyro', 'Hydro', 'Electro', 'Anemo', 'None']\n",
            "weapon_type Number of unique entries: 5,\n",
            "['Sword', 'Bow', 'Claymore', 'Catalyst', 'Polearm']\n",
            "model Number of unique entries: 5,\n",
            "['Medium Male', 'Tall Male', 'Medium Female', 'Tall Female', 'Short Female']\n",
            "constellation Number of unique entries: 69,\n",
            "['Princeps Cretaceus', 'Vultur Volans', 'Nora Fortis', 'Lepus', 'Taurus Iracundus', 'Lagenaria', 'Crater', 'Victor Mare', 'Rota Calamitas', 'Sagitta Scutum', 'Nubis Caesor', 'Leptailurus Cervarius', 'Lupus Aureus', 'Mantichora', 'Noctua', 'Feles', 'Magicae Lucerna', 'Aphros Delos', 'Flosculi Implexi', 'Corvus', 'Sinae Unicornis', 'Canis Bellatoris', 'Papilio Charontis', 'Leo Minor', 'Acer Palmatum', 'Pavo Ocellus', 'Grus Nivis', 'Cypressus Custos', 'Paradisaea', 'Trulla Cementarii', 'Arcella', 'Trifolium', 'Flabellum', 'Tribulatio Demptio', 'Luscinia', 'Tempus Fugit', 'Palumbus', 'Astrolabos', 'Sapientia Oromasdis', 'Lotos Somno', 'Opus Aequilibrium', 'Parma Cordis', 'Pristina Nova', 'Imperatrix Umbrosa', 'Lupus Minor', 'Spinea Corona', 'Dracanea Somnolenta', 'Nyctereutes Minor', 'Crista Doloris', 'Cervus Minor', 'Ampulla', 'Monoceros Caeli', 'Rubeum Scutum', 'Vulpes Zerda', 'Viator', 'Viatrix', 'Carmen Dei', 'Peregrinus', 'Trulla', 'Alatus Nemeseos', 'Fabulae Textile', 'Fila Ignium', 'Divina Vulpes', 'Bestia Iustitia', 'Osmanthus', 'Umbrabilis Orchis', 'Carassius Auratus', 'Opera Grandis', 'Lapis Dei']\n",
            "birthday Number of unique entries: 67,\n",
            "['Sep-13', '02-Nov', '04-Apr', '08-Oct', '06-Jan', 'Apr-25', '07-May', 'Feb-14', '02-Jan', '05-Mar', '09-Jul', '05-Aug', 'Jun-23', '04-Jul', 'Apr-30', 'Jan-18', 'Dec-21', 'Oct-25', 'Aug-20', 'May-27', '12-Feb', 'May-18', 'Jul-15', 'Mar-14', 'Oct-29', 'Nov-30', 'Sep-28', 'Mar-26', '07-Sep', 'Nov-20', 'Jan-22', 'Jul-27', 'Jul-14', 'Dec-19', '06-Sep', '08-Nov', 'Aug-31', 'Oct-27', '12-Mar', 'Aug-26', 'Mar-21', '03-Mar', 'Jun-26', '09-Sep', 'Jan-24', 'Feb-22', 'Oct-19', '03-Oct', 'Jul-24', 'Sep-26', 'Jul-20', '01-Sep', 'Dec-29', \"Player's Choice\", 'Jun-16', '01-Mar', '11-Feb', 'Apr-17', '10-Sep', 'Oct-16', 'Jun-27', 'Jul-28', '03-Jun', 'Apr-20', 'Jun-21', 'May-21', 'Dec-31']\n",
            "special_dish Number of unique entries: 67,\n",
            "['Woodland Dream', 'Ideal Circumstance', 'Satiety Gel', \"Outrider's Champion Steak!\", 'Way of the Strong', 'Heat-Quelling Soup', 'Spicy Stew', 'Flash-Fried Filet', 'Teyvat Charred Egg', 'Utmost Care', 'Cold Noodles with Mountain Delicacies', 'Yearning', 'Duel Soul', 'Goldflame Tajine', '\"Once Upon a Time in Mondstadt\"', 'Definitely Not Bar Food!', 'Show Me the Mora', 'Stormcrest Pie', 'Traditionally-Made Charcoal-Baked Ajilenakh Cake', 'Die Heilige Sinfonie', 'Prosperous Peace', 'Victorious Legend', 'Ghostly March', 'Invigorating Pizza', 'All-Weather Beauty', 'Fruity Skewers', '\"Snow on the Hearth\"', 'Quiet Elegance', 'The Endeavor', 'Survival Grilled Fish', 'Energizing Bento', 'Fish-Flavored Toast', 'Faith Eternal', 'Omurice Waltz', 'Extravagant Slumber', 'Mysterious Bolognese', \"Surveyor's Breakfast Sandwich\", 'Der Weisheit Letzter Schluss (Life)', 'Halvamazd', 'Swirling Steps', 'Qiankun Mora Meat', 'Lighter-Than-Air Pancake', 'No Tomorrow', 'None', 'Puppy-Paw Hash Brown', 'Dinner of Judgement', 'A Stunning Stratagem', 'Dizziness-Be-Gone no Justu Version 2.0', 'Heartstring Noodles', 'The Only Truth', 'Nutritious Meal (V.593)', 'A Prize Catch', '\"Warmth\"', \"Forest Watcher's Choice\", 'A Buoyant Breeze', 'Shimi Chazuke', \"Wanmin Restaurant's Boiled Fish\", '\"Sweet Dream\"', 'All-Delicacy Parcels', \"Rockin' Riffin' Chicken!\", 'Fukuuchi Udon', '\"My Way\"', 'Qingce Household Dish', 'Dew-Dipped Shrimp', 'Summer Festival Fish', 'Cloud-Shrouded Jade', 'Slow-Cooked Bamboo Shoot Soup']\n",
            "affiliation Number of unique entries: 46,\n",
            "['Knights of Favonius', 'Sumeru Akademiya', 'Wandering Heroine', 'Arataki Gang', 'Bubu Pharmacy', 'Church of Favonius', 'The Crux', \"Adventurers' Guild\", 'Aaru Village', 'Tianheng Thaumaturges', 'Gandharva Ville', 'Temple of Silence', 'The Eremites', 'Dawn Winery', \"The Cat's Tail\", 'The Palace of Alcazarzaray', 'Haravatat', 'Yuehai Pavilion', 'Watatsumi Island', 'Wangsheng Funeral Parlor', 'Yashiro Commission', 'Independent Design Studio', 'Liyue Qixing', 'Komaniya Express', 'Tenryou Commission', 'Rtawahist', 'Mondstadt', 'Sumeru City', 'Zubayr Theater', 'Inazuma City', 'Wolvendom', 'Shuumatsuban', \"Cloud Retainer's Abode\", 'Fatui', 'None', 'Wanmin Restaurant', 'Liyue Adeptus', 'Feiyun Commerce Guild', '\"The Red Strings\"', 'Grand Narukami Shrine', 'Yanfei Legal Consultancy', \"Streetward Rambler's Abode\", 'Yanshang Teahouse', 'Naganohara Fireworks', 'Yun-Han Opera House', 'Liyue Harbor']\n",
            "voice_eng Number of unique entries: 67,\n",
            "['Khoi Dao', 'Nazeeh Tarsha', 'Giselle Fernandez', 'Kelly Baskin', 'Max Mittelman', 'Sean Durrie, Xanthe Huynh', 'Laura Stahl', 'Allegra Clark', 'Cristina Vee Valenzuela', 'Shara Kirby', 'Beau Bridgland', 'Christina Costello', 'Alejandro Saab', 'Amber May', 'Sean Chiplock', 'Dina Sherman', 'Anjali Kunapaneni', 'Suzie Yeung', 'Chandni Parekh', 'Brittany Cox, Ben Pronsky', 'Jennifer Losi', 'Cory Yee', 'Brianna Knickerbocker', 'Stephanie Southerland', 'Mark Whitten', 'Josey Montana McCoy', 'Erica Mendez', 'Chris Hackney', 'Ben Balmaceda', 'Kayli Mills', 'Julia Gu', 'Poonam Basu', 'Jeannie Tirado', 'Kira Buckland', 'Ashely Biski', 'Mara Junot', 'Robb Moreira', 'Felecia Angelle', 'Kimberley Anne Campbell', 'Dani Chambers', 'Erin Ebers', 'Laura Faye Smith', 'Christie Cate', 'Anne Yatco', 'Todd Haberkorn', 'Elizabeth Maxwell', 'Risa Mei', 'Lilypichu (Lily Ki)', 'Chelsea Kwoka', 'Kieran Regan', 'Valeria Rodriguez', 'Griffin Burns', 'Christian Banas', 'Elliot Gindi', 'Sarah Miller-Crews', 'Zach Aguilar', 'Erika Harlacher', 'Patrick Pedraza', 'Jackie Lastra', 'Laila Berzins', 'Ratana', 'Lizzie Freeman', 'Kelsey Jaffer', 'Laura Post', 'Jenny Yokobori', 'Judy Alice Lee, Yang Yang (??)', 'Keith Silverstein']\n",
            "voice_cn Number of unique entries: 60,\n",
            "['Mace', 'Yang Chaoran (???)', 'Mufei (??)', 'Shujin Cai (???)', 'Zhaokun Liu (???)', 'Qin Qiege (???), Wang Xiaotong (???)', 'Yuanyuan Song (???)', 'Yajing Tang (???)', 'Xueting Mu (???)', 'Zhang Qi (??)', 'kinsen', 'Qin Wenjing (???)', 'Li Qingyang (???)', 'Chen Yu (??)', 'Yang Ma (??)', 'Nuoya (??)', 'Wang Xiaotong (???)', 'Ziyin (??)', 'Yan Mengmeng (???)', 'Mace,  Yuantao Li (???), Zhao Yuecheng (???)', 'Su Lin (??)', 'Yang Xinran (???)', 'Dian Tao (??)', 'Banma (??)', 'Ye Sun (??)', 'Xiao N (?N)', 'Zhaolu (??)', 'Liu Sanmu (???)', 'Ying Xie (??)', 'Sun Yanqi (???)', 'Hualing (??)', 'Yang Menglu (???)', 'Yang Ning (??)', 'Hou Xiaofei (???)', 'Ke Zhong (??)', 'Deng Youxi (???)', 'Tingting Chen (???)', 'Zisu Jiuyue (????)', 'Mingya Du (???)', 'Yanning (??)', 'Juhuahua (???)', 'Shuai Zhou (??)', 'Anqi Zhang (???)', 'Guiniang (??)', 'Sakula??', 'Ziyi Qin(???)', 'Lin Jing (??)', 'Xiaogan (??)', 'Yudong (??)', 'Pei Zhang (??)', 'Moran (??)', 'Luyin (??)', 'Miaojiang (??)', 'Yaxin Wang (???)', 'Ziwu Su (???)', 'Liu Yinuo (???)', 'Xu Hui (??)', 'Na Jin (??)', 'Wenxiao He (???), Yang Yang (??)', 'Bo Peng (??)']\n",
            "voice_jp Number of unique entries: 69,\n",
            "['Kenji Nojima (????)', 'Umehara Yuuichirou (?? ???)', 'Ayahi Takagaki (?? ??)', 'Manaka Iwami (?????)', 'Takanori Nishikawa (????)', 'Yusa Koji (?? ??), Shoji Yui (????)', 'Akari Kit? (????)', 'Ami Koshimizu (?????)', 'Ry?ta ?saka (????)', 'Yuzuki Ryoka (?? ??)', 'Soma Saito (????)', 'Maekawa Ryoko (?? ??)', 'Irino Miyu (?? ??)', 'Fukuhara Ayaka (????)', 'Kensho Ono (????)', 'Shiori Izawa (????)', 'Kaneda Tomoko (????)', 'Rina Sato (????)', 'Horie Yui (?? ??)', 'Maaya Uchida (????), Yasunori Masutani (????)', 'Reina Ueda (????)', 'Tasuku Hatanaka (?? ?)', 'Rie Takahashi (????)', 'Chiwa Sait? (????)', 'Nobunaga Shimazaki (?? ??)', 'Kohsuke Toriumi (????)', 'Saori Hayami (????)', 'Akira Ishida (?? ?)', 'Uchida Yuma (?? ??)', 'Eri Kitamura (?????)', 'Suzushiro Sayumi (?? ??)', 'Misaki Kuno (????)', 'Asami Seto (?????)', 'Kaori Mizuhashi (?? ???)', 'Tomita Miyu (????)', 'Rie Tanaka (????)', 'Sanpei Y?ko (?????)', 'Konomi Kohara (????)', 'Tamura Yukari (?????)', 'Kanemoto Hisako (????)', 'Sayaka Ohara (?????)', 'Kanon Takao (????)', 'Yukari Tamura (?????)', 'Miyuki Sawashiro (?????)', 'K?ki Uchiyama (????)', 'Ai Kakuma (????)', 'Suzuko Mimori (?????)', 'Aya Suzaki (???)', 'Ayako Kawasumi (????)', 'Iguchi Yuuichi (????)', 'Akane Fujita (???)', 'Ryohei Kimura (????)', 'Masakazu Morita (????)', 'Kobayashi Sanae (?? ??)', 'Aoi Y?ki (???)', 'Shun Horie (???)', 'Ayumu Murase (???)', 'Kakihara Tetsuya (?? ??)', 'Ari Ozawa (????)', 'Yoshitsugu Matsuoka (????)', 'Junko Minagawa (????)', 'Chiaki Takahashi (??????)', 'Ayane Sakura (????)', 'Yumiri Hanamori (?? ???)', 'Kadowaki Mai (????)', 'Endou Aya (?? ?)', 'Kana Ueda (????)', 'Koiwai Kotori (??????), Yang Yang (??)', 'Tomoaki Maeno (????)']\n",
            "voice_kr Number of unique entries: 66,\n",
            "['Kim Myung-jun (???)', 'Jun Seung Hwa (???)', 'Jo Hyeon-jeong (???)', 'Kim Yeon-woo (???)', 'Song Joon-seok (???)', 'Lee Hosan (???), Changsheng: Jang Mi (??)', 'Yun Ah-yeong (???)', 'Jeong Yoo-mi (???)', 'Song Ha-rim (???)', 'Jeon Yeongsu (???)', 'Yang Jeong-hwa (???)', 'Bang Siu (???)', 'Lee Woo-ri (???)', 'Kim Hyeon-sim (???)', 'Choi Seung-hoon (???)', 'Woo Jeong-sin (???)', 'Lee Myeong-ho (???)', 'Kim Hyeon-ji (???)', 'Kim You-rim (???)', 'Park Go-woon (???), Lee Hyun (??)', 'Kim Sun-hye (???)', 'Lee Sae-byeok (???)', 'Kim Ha-ru (???)', 'Ahn Young-mi (???)', 'Kim Shin-woo (???)', 'Jeong Joo-won (???)', 'Lee Yu-ri (???)', 'Jang Min-hyeok (???)', 'Lee Jung-min (???)', 'Lee Bo-hee (???)', 'Kang Eun-ae (???)', 'Bang Yeon-ji (???)', 'Mun Ji-yeong (???)', 'Kim Yool (??)', 'Kang Sae-Bom (???)', 'Park Go-woon (???)', 'Yoon Eun-seo (???)', 'Park Shi-Yoon (???)', 'Chae Rim (??)', 'Gwak Gyu-mi (???)', 'Lee Seul (??)', 'Park Ji-yoon (???)', 'Kim Seo-yeong (???)', 'Kim Bo-na (???)', 'Yeo Yun-mi (???)', 'Lee Ji-hyeon (???)', 'Lee Hyun-jin (???)', 'Jeong-Ui-jin (???)', 'Kim Ha-yeong (???)', 'Nam Doh-hyeong (???)', 'Ryu Seung-gon (???)', 'Jung Ui-taek (???)', 'Lee Sae-a (???)', 'Lee Kyung-tae (???)', 'Jung Yoo-jung (???)', 'Min Seung-woo (???)', 'Yun A-yeong (???)', 'Sim Kyu-hyuk (???)', 'Kim Chae-ha (???)', 'Moon Yoo-jeong (???)', 'Cho Kyung-yi (???)', 'Yu Hye-ji (???)', 'Min-a (??)', 'Bak Sin-hee (???)', 'Sa Mun-yeong (???), Yang Yang (??)', 'Pyo Yeong-jae (???)']\n",
            "release_date Number of unique entries: 37,\n",
            "['12/23/2020', '1/18/2023', '09-01-2021', '9/28/2020', '12/14/2021', '05-02-2023', '9/28/2022', '8/24/2022', '03-01-2023', '11-11-2020', '09-09-2022', '5/18/2021', '12-07-2023', '01-12-2021', '03-02-2021', '6/29/2021', '7/21/2021', '4/30/2022', '5/24/2023', '10/20/2020', '6/21/2022', '11/18/2022', '3/21/2023', '11-02-2022', '10/14/2022', '04-06-2021', '9/21/2021', '08-10-2021', '01-05-2022', '7/13/2022', '10-02-2021', '12-07-2022', '02-03-2021', '12-01-2020', '2/16/2022', '4/28/2021', '5/31/2022']\n",
            "ascension Number of unique entries: 16,\n",
            "['Geo DMG Bonus', 'Dendro DMG Bonus', 'Cryo DMG Bonus', 'ATK', 'CRIT Rate', 'HP', 'Electro DMG Bonus', 'Energy Recharge', 'CRIT DMG', 'Healing Bonus', 'Elemental Mastery', 'Pyro DMG Bonus', 'DEF', 'Physical DMG Bonus', 'Hydro DMG Bonus', 'Anemo DMG Bonus']\n",
            "ascension_specialty Number of unique entries: 34,\n",
            "['Cecilia', 'Sand Grease Pupa', 'Crystal Marrow', 'Small Lamp Grass', 'Onikabuto', 'Violetgrass', 'Philanemo Mushroom', 'Noctilucous Jade', 'Windwheel Aster', 'Redcrest', 'Cor Lapis', 'Rukkhashava Mushrooms', 'Scarab', 'Calla Lily', 'Kalpalata Lotus', 'Dandelion Seed', 'Henna Berry', 'Qingxin', 'Sango Pearl', 'Silk Flower', 'Sea Ganoderma', 'Sakura Bloom', 'Mourning Flower', 'Amakumo Fruit', 'Dendrobium', 'Naku Weed', 'Nilotpala Lotus', 'Valberry', 'Wolfhook', 'Padisarah', 'Glaze Lily', 'Starconch', 'Fluorescent Fungus', 'Jueyun Chili']\n",
            "ascension_talent Number of unique entries: 11,\n",
            "['Divining Scroll', 'Faded Red Satin', 'Spectral Husk', 'Firm Arrowhead', 'Slime Condensate', 'Fungal Spores', 'Treasure Hoarder Insignia', 'Damaged Mask', \"Recruit's Insignia\", 'Whopperflower Nectar', 'Old Handguard']\n",
            "ascension_boss Number of unique entries: 24,\n",
            "['Basalt Pillar', 'Pseudo-Stamens', 'Crystalline Bloom', 'Everflame Seed', 'Riftborn Regalia', 'Evergloom Ring', 'Cleansing Heart', 'Lightning Prism', 'Light Guiding Tetrahedron', 'Hoarfrost Core', 'Majestic Hooked Beak', 'Thunderclap Fruitcore', 'Perpetual Heart', 'Juvenile Jade', 'Hurricane Seed', 'Marionette Core', 'Dew of Repudation', 'Quelled Creeper', 'Storm Beads', 'Runic Fang', 'Perpetual Caliber', \"Dragonheir's False Fin\", 'Smoldering Pearl', 'None']\n",
            "talent_book Number of unique entries: 13,\n",
            "['Teachings of Ballad', 'Teachings of Ingenuity', 'Teachings of Freedom', 'Teachings of Elegance', 'Teachings of Gold', 'Teachings of Resistance', 'Teachings of Admonition', 'Teachings of Diligence', 'Teachings of Praxis', 'Teachings of Light', 'Teachings of Prosperity', 'Teachings of Transience', 'Teachings of Freedom, Teachings of Transience']\n",
            "talent_weekly Number of unique entries: 25,\n",
            "['Tusk of Monoceros Caeli', 'Mirror of Mushin', 'Molten Moment', \"Dvalin's Sigh\", 'Ashen Heart', 'Worldspan Fern', 'Ring of Boreas', \"Dvalin's Plume\", 'Tears of the Calamitous God', 'Mudra of the Malefic General', 'Puppet Strings', 'Shard of a Foul Legacy', 'Bloodjade Branch', \"Dragon Lord's Crown\", 'Spirit Locket of Boreas', 'Shadow of the Warrior', 'Gilded Scale', 'Primordial Greenbloom', 'Everamber', \"Dvalin's Claw\", 'Tail of Boreas', 'Hellfire Butterfly', 'The Meaning of Aeons', \"Dvalin's Sigh, Dragon Lord's Crown\", \"Daka's Bell\"]\n",
            "hp_50_60 Number of unique entries: 54,\n",
            "['7675', '7746', '6325', '5578', '7462', '5770', '7694', '7309', 'Jul-20', '6475', '7249', '9096', '7533', '5642', '7308', '5641', '5418', '5686', '9026', '8528', '7747', '6860', '7960', '7052', '7604', '7180', '5970', '7244', '6539', '7373', '6041', '6012', '8812', '7117', '7178', '7491', '7245', '7818', '6988', '7540', '6283', '5450', '6091', '6296', '6411', '6112', '5898', '7391', '6027', '6604', '6020', '5514', '8386', '6899']\n",
            "spsecial_0 Number of unique entries: 2,\n",
            "['0.00%', '0']\n",
            "special_1 Number of unique entries: 2,\n",
            "['0.00%', '0']\n",
            "special_2 Number of unique entries: 10,\n",
            "['7.20%', '6.00%', '4.80%', '6.70%', '9.60%', '5.50%', '28.8', '24', '8.00%', '7.50%']\n",
            "special_3 Number of unique entries: 10,\n",
            "['14.40%', '12.00%', '9.60%', '13.30%', '19.20%', '11.10%', '57.6', '48', '16.00%', '15.00%']\n",
            "special_4 Number of unique entries: 10,\n",
            "['14.40%', '12.00%', '9.60%', '13.30%', '19.20%', '11.10%', '57.6', '48', '16.00%', '15.00%']\n",
            "special_5 Number of unique entries: 10,\n",
            "['21.60%', '18.00%', '14.40%', '20.00%', '28.80%', '16.60%', '86.4', '72', '24.00%', '22.50%']\n",
            "special_6 Number of unique entries: 10,\n",
            "['28.80%', '24.00%', '19.20%', '26.70%', '38.40%', '22.20%', '115.2', '96', '32.00%', '30.00%']\n"
          ]
        }
      ]
    },
    {
      "cell_type": "code",
      "source": [
        "df.columns"
      ],
      "metadata": {
        "colab": {
          "base_uri": "https://localhost:8080/"
        },
        "id": "9qTs7pcOqglL",
        "outputId": "bc72c284-9b72-4b5b-84b4-1a3ef8e42999"
      },
      "execution_count": null,
      "outputs": [
        {
          "output_type": "execute_result",
          "data": {
            "text/plain": [
              "Index(['character_name', 'rarity', 'region', 'vision', 'weapon_type', 'model',\n",
              "       'constellation', 'birthday', 'special_dish', 'affiliation', 'voice_eng',\n",
              "       'voice_cn', 'voice_jp', 'voice_kr', 'release_date', 'ascension',\n",
              "       'ascension_specialty', 'ascension_talent', 'ascension_boss',\n",
              "       'talent_book', 'talent_weekly', 'hp_90_90', 'atk_90_90', 'def_90_90',\n",
              "       'hp_80_90', 'atk_80_90', 'def_80_90', 'hp_80_80', 'atk_80_80',\n",
              "       'def_80_80', 'hp_70_80', 'atk_70_80', 'def_70_80', 'hp_70_70',\n",
              "       'atk_70_70', 'def_70_70', 'hp_60_70', 'atk_60_70', 'def_60_70',\n",
              "       'hp_60_60', 'atk_60_60', 'def_60_60', 'hp_50_60', 'atk_50_60',\n",
              "       'def_50_60', 'hp_50_50', 'atk_50_50', 'def_50_50', 'hp_40_50',\n",
              "       'atk_40_50', 'def_40_50', 'hp_40_40', 'atk_40_40', 'def_40_40',\n",
              "       'hp_20_40', 'atk_20_40', 'def_20_40', 'hp_20_20', 'atk_20_20',\n",
              "       'def_20_20', 'hp_1_20', 'atk_1_20', 'def_1_20', 'spsecial_0',\n",
              "       'special_1', 'special_2', 'special_3', 'special_4', 'special_5',\n",
              "       'special_6'],\n",
              "      dtype='object')"
            ]
          },
          "metadata": {},
          "execution_count": 22
        }
      ]
    },
    {
      "cell_type": "code",
      "source": [
        "df.isnull().sum() #checking for null values"
      ],
      "metadata": {
        "colab": {
          "base_uri": "https://localhost:8080/"
        },
        "id": "ksrEE0UenFbr",
        "outputId": "779db88d-b947-4b95-87f8-f6d965ebd8eb"
      },
      "execution_count": null,
      "outputs": [
        {
          "output_type": "execute_result",
          "data": {
            "text/plain": [
              "character_name    0\n",
              "rarity            0\n",
              "region            3\n",
              "vision            0\n",
              "weapon_type       0\n",
              "                 ..\n",
              "special_2         0\n",
              "special_3         0\n",
              "special_4         0\n",
              "special_5         0\n",
              "special_6         0\n",
              "Length: 70, dtype: int64"
            ]
          },
          "metadata": {},
          "execution_count": 11
        }
      ]
    },
    {
      "cell_type": "code",
      "source": [
        "import missingno as msno\n",
        "msno.matrix(df)"
      ],
      "metadata": {
        "colab": {
          "base_uri": "https://localhost:8080/",
          "height": 860
        },
        "id": "xdHvv9dKnL3-",
        "outputId": "b511d461-f131-4c1e-e91d-a61610124639"
      },
      "execution_count": null,
      "outputs": [
        {
          "output_type": "execute_result",
          "data": {
            "text/plain": [
              "<Axes: >"
            ]
          },
          "metadata": {},
          "execution_count": 12
        },
        {
          "output_type": "display_data",
          "data": {
            "text/plain": [
              "<Figure size 2500x1000 with 2 Axes>"
            ],
            "image/png": "[encoded data removed]"
          },
          "metadata": {}
        }
      ]
    },
    {
      "cell_type": "code",
      "source": [
        "from statistics import mean"
      ],
      "metadata": {
        "id": "gxLAxcvWpRVa"
      },
      "execution_count": null,
      "outputs": []
    },
    {
      "cell_type": "code",
      "source": [
        "avg = df.groupby('character_name')['def_90_90'].mean().reset_index()"
      ],
      "metadata": {
        "id": "dW-Jzb1bpBZj"
      },
      "execution_count": null,
      "outputs": []
    },
    {
      "cell_type": "code",
      "source": [
        "type(avg)"
      ],
      "metadata": {
        "colab": {
          "base_uri": "https://localhost:8080/"
        },
        "id": "1XXoqqMirLnR",
        "outputId": "f10df19c-7418-40cb-c2f9-a596c2e05ff1"
      },
      "execution_count": null,
      "outputs": [
        {
          "output_type": "execute_result",
          "data": {
            "text/plain": [
              "pandas.core.series.Series"
            ]
          },
          "metadata": {},
          "execution_count": 30
        }
      ]
    },
    {
      "cell_type": "code",
      "source": [
        "avg['def_90_90']"
      ],
      "metadata": {
        "colab": {
          "base_uri": "https://localhost:8080/"
        },
        "id": "kcryPRb0sHOp",
        "outputId": "01a3d8b7-c420-44b4-9d6d-fcd6ee5e164e"
      },
      "execution_count": null,
      "outputs": [
        {
          "output_type": "execute_result",
          "data": {
            "text/plain": [
              "0     876.0\n",
              "1     781.0\n",
              "2     676.0\n",
              "3     601.0\n",
              "4     959.0\n",
              "      ...  \n",
              "64    750.0\n",
              "65    548.0\n",
              "66    615.0\n",
              "67    734.0\n",
              "68    738.0\n",
              "Name: def_90_90, Length: 69, dtype: float64"
            ]
          },
          "metadata": {},
          "execution_count": 40
        }
      ]
    },
    {
      "cell_type": "code",
      "source": [
        "avg['character_name'].unique()"
      ],
      "metadata": {
        "colab": {
          "base_uri": "https://localhost:8080/"
        },
        "id": "1OIxCvryqCHa",
        "outputId": "bca9b85c-95fa-434e-eb98-dfc71de6f692"
      },
      "execution_count": null,
      "outputs": [
        {
          "output_type": "execute_result",
          "data": {
            "text/plain": [
              "array(['Albedo', 'Alhaitham', 'Aloy', 'Amber', 'Arataki Itto', 'Baizhu',\n",
              "       'Barbara', 'Beidou', 'Bennett', 'Candace', 'Chongyun', 'Collei',\n",
              "       'Cyno', 'Dehya', 'Diluc', 'Diona', 'Dori', 'Eula', 'Faruzan',\n",
              "       'Fischl', 'Ganyu', 'Gorou', 'Hu Tao', 'Jean', 'Kaedehara Kazuha',\n",
              "       'Kaeya', 'Kamisato Ayaka', 'Kamisato Ayato', 'Kaveh', 'Keqing',\n",
              "       'Kirara', 'Klee', 'Kujou Sara', 'Kuki Shinobu', 'Layla', 'Lisa',\n",
              "       'Mika', 'Mona', 'Nahida', 'Nilou', 'Ningguang', 'Noelle', 'Qiqi',\n",
              "       'Raiden Shogun', 'Razor', 'Rosaria', 'Sangonomiya Kokomi', 'Sayu',\n",
              "       'Shenhe', 'Shikanoin Heizou', 'Sucrose', 'Tartaglia', 'Thoma',\n",
              "       'Tighnari', 'Traveler (Aether)', 'Traveler (Lumine)', 'Venti',\n",
              "       'Wanderer', 'Xiangling', 'Xiao', 'Xingqiu', 'Xinyan', 'Yae Miko',\n",
              "       'Yanfei', 'Yaoyao', 'Yelan', 'Yoimiya', 'Yun Jin', 'Zhongli'],\n",
              "      dtype=object)"
            ]
          },
          "metadata": {},
          "execution_count": 59
        }
      ]
    },
    {
      "cell_type": "code",
      "source": [
        "import plotly.graph_objs as go\n",
        "from plotly.subplots import make_subplots"
      ],
      "metadata": {
        "id": "9iBw4M0pwSSe"
      },
      "execution_count": null,
      "outputs": []
    },
    {
      "cell_type": "code",
      "source": [
        "colors = {'Pyro': 'crimson', 'Hydro':'darkblue', 'Cryo':'cyan','Dendro':'darkgreen', 'Electro': 'darkviolet','Geo':'darkgoldenrod','Anemo':'lightgreen'}"
      ],
      "metadata": {
        "id": "8fSL2iH2xuh7"
      },
      "execution_count": null,
      "outputs": []
    },
    {
      "cell_type": "code",
      "source": [
        "fig = make_subplots(rows=1, cols=1)\n",
        "bar_colors = [colors.get(name, 'gray') for name in df['vision']]\n",
        "\n",
        "# Create the horizontal bar chart\n",
        "bar_chart = go.Bar(\n",
        "    x=avg['def_90_90'],\n",
        "    y=avg['character_name'],\n",
        "    orientation='h',  # Horizontal bar chart\n",
        "    marker=dict(color=bar_colors)\n",
        ")\n",
        "\n",
        "# Add the bar chart to the subplot\n",
        "fig.add_trace(bar_chart)\n",
        "\n",
        "# Update the X-axis to rotate labels by 90 degrees\n",
        "fig.update_xaxes(tickangle=90)\n",
        "fig.update_yaxes(categoryorder='total ascending')\n",
        "# Add labels and title\n",
        "fig.update_xaxes(title_text='Average DEF 90-90')\n",
        "fig.update_yaxes(title_text='Character Name')\n",
        "fig.update_layout(title='Average DEF 90-90 by Character')\n",
        "\n",
        "# Show the chart\n",
        "fig.show()\n",
        "\n",
        "\n",
        "\n",
        "\n"
      ],
      "metadata": {
        "colab": {
          "base_uri": "https://localhost:8080/",
          "height": 542
        },
        "id": "ox1jy6EewCY3",
        "outputId": "f45dfa94-a21b-49c2-854a-9f389c22132e"
      },
      "execution_count": null,
      "outputs": [
        {
          "output_type": "display_data",
          "data": {
            "text/html": [
              "<html>\n",
              "<head><meta charset=\"utf-8\" /></head>\n",
              "<body>\n",
              "    <div>            <script src=\"https://cdnjs.cloudflare.com/ajax/libs/mathjax/2.7.5/MathJax.js?config=TeX-AMS-MML_SVG\"></script><script type=\"text/javascript\">if (window.MathJax && window.MathJax.Hub && window.MathJax.Hub.Config) {window.MathJax.Hub.Config({SVG: {font: \"STIX-Web\"}});}</script>                <script type=\"text/javascript\">window.PlotlyConfig = {MathJaxConfig: 'local'};</script>\n",
              "        <script charset=\"utf-8\" src=\"https://cdn.plot.ly/plotly-2.24.1.min.js\"></script>                <div id=\"e2cb1745-b227-4d2f-bbe0-e56f246a655c\" class=\"plotly-graph-div\" style=\"height:525px; width:100%;\"></div>            <script type=\"text/javascript\">                                    window.PLOTLYENV=window.PLOTLYENV || {};                                    if (document.getElementById(\"e2cb1745-b227-4d2f-bbe0-e56f246a655c\")) {                    Plotly.newPlot(                        \"e2cb1745-b227-4d2f-bbe0-e56f246a655c\",                        [{\"marker\":{\"color\":[\"darkgoldenrod\",\"darkgreen\",\"cyan\",\"crimson\",\"darkgoldenrod\",\"darkgreen\",\"darkblue\",\"darkviolet\",\"crimson\",\"darkblue\",\"cyan\",\"darkgreen\",\"darkviolet\",\"crimson\",\"crimson\",\"cyan\",\"darkviolet\",\"cyan\",\"lightgreen\",\"darkviolet\",\"cyan\",\"darkgoldenrod\",\"crimson\",\"lightgreen\",\"lightgreen\",\"cyan\",\"cyan\",\"darkblue\",\"darkgreen\",\"darkviolet\",\"darkgreen\",\"crimson\",\"darkviolet\",\"darkviolet\",\"cyan\",\"darkviolet\",\"cyan\",\"darkblue\",\"darkgreen\",\"darkblue\",\"darkgoldenrod\",\"darkgoldenrod\",\"cyan\",\"darkviolet\",\"darkviolet\",\"cyan\",\"darkblue\",\"lightgreen\",\"cyan\",\"lightgreen\",\"lightgreen\",\"darkblue\",\"crimson\",\"darkgreen\",\"gray\",\"gray\",\"lightgreen\",\"lightgreen\",\"crimson\",\"lightgreen\",\"darkblue\",\"crimson\",\"darkviolet\",\"crimson\",\"darkgreen\",\"darkblue\",\"crimson\",\"darkgoldenrod\",\"darkgoldenrod\"]},\"orientation\":\"h\",\"x\":[876.0,781.0,676.0,601.0,959.0,499.0,669.0,648.0,771.0,682.0,648.0,600.0,859.0,627.0,784.0,601.0,723.0,751.0,627.0,594.0,630.0,648.0,876.0,769.0,807.0,792.0,784.0,769.0,750.0,799.0,546.0,615.0,628.0,750.0,655.0,573.0,713.0,653.0,630.0,728.0,573.0,799.0,922.0,789.0,751.0,710.0,657.0,745.0,830.0,683.0,703.0,815.0,751.0,630.0,683.0,683.0,669.0,607.0,669.0,799.0,758.0,799.0,569.0,587.0,750.0,548.0,615.0,734.0,738.0],\"y\":[\"Albedo\",\"Alhaitham\",\"Aloy\",\"Amber\",\"Arataki Itto\",\"Baizhu\",\"Barbara\",\"Beidou\",\"Bennett\",\"Candace\",\"Chongyun\",\"Collei\",\"Cyno\",\"Dehya\",\"Diluc\",\"Diona\",\"Dori\",\"Eula\",\"Faruzan\",\"Fischl\",\"Ganyu\",\"Gorou\",\"Hu Tao\",\"Jean\",\"Kaedehara Kazuha\",\"Kaeya\",\"Kamisato Ayaka\",\"Kamisato Ayato\",\"Kaveh\",\"Keqing\",\"Kirara\",\"Klee\",\"Kujou Sara\",\"Kuki Shinobu\",\"Layla\",\"Lisa\",\"Mika\",\"Mona\",\"Nahida\",\"Nilou\",\"Ningguang\",\"Noelle\",\"Qiqi\",\"Raiden Shogun\",\"Razor\",\"Rosaria\",\"Sangonomiya Kokomi\",\"Sayu\",\"Shenhe\",\"Shikanoin Heizou\",\"Sucrose\",\"Tartaglia\",\"Thoma\",\"Tighnari\",\"Traveler (Aether)\",\"Traveler (Lumine)\",\"Venti\",\"Wanderer\",\"Xiangling\",\"Xiao\",\"Xingqiu\",\"Xinyan\",\"Yae Miko\",\"Yanfei\",\"Yaoyao\",\"Yelan\",\"Yoimiya\",\"Yun Jin\",\"Zhongli\"],\"type\":\"bar\"}],                        {\"template\":{\"data\":{\"histogram2dcontour\":[{\"type\":\"histogram2dcontour\",\"colorbar\":{\"outlinewidth\":0,\"ticks\":\"\"},\"colorscale\":[[0.0,\"#0d0887\"],[0.1111111111111111,\"#46039f\"],[0.2222222222222222,\"#7201a8\"],[0.3333333333333333,\"#9c179e\"],[0.4444444444444444,\"#bd3786\"],[0.5555555555555556,\"#d8576b\"],[0.6666666666666666,\"#ed7953\"],[0.7777777777777778,\"#fb9f3a\"],[0.8888888888888888,\"#fdca26\"],[1.0,\"#f0f921\"]]}],\"choropleth\":[{\"type\":\"choropleth\",\"colorbar\":{\"outlinewidth\":0,\"ticks\":\"\"}}],\"histogram2d\":[{\"type\":\"histogram2d\",\"colorbar\":{\"outlinewidth\":0,\"ticks\":\"\"},\"colorscale\":[[0.0,\"#0d0887\"],[0.1111111111111111,\"#46039f\"],[0.2222222222222222,\"#7201a8\"],[0.3333333333333333,\"#9c179e\"],[0.4444444444444444,\"#bd3786\"],[0.5555555555555556,\"#d8576b\"],[0.6666666666666666,\"#ed7953\"],[0.7777777777777778,\"#fb9f3a\"],[0.8888888888888888,\"#fdca26\"],[1.0,\"#f0f921\"]]}],\"heatmap\":[{\"type\":\"heatmap\",\"colorbar\":{\"outlinewidth\":0,\"ticks\":\"\"},\"colorscale\":[[0.0,\"#0d0887\"],[0.1111111111111111,\"#46039f\"],[0.2222222222222222,\"#7201a8\"],[0.3333333333333333,\"#9c179e\"],[0.4444444444444444,\"#bd3786\"],[0.5555555555555556,\"#d8576b\"],[0.6666666666666666,\"#ed7953\"],[0.7777777777777778,\"#fb9f3a\"],[0.8888888888888888,\"#fdca26\"],[1.0,\"#f0f921\"]]}],\"heatmapgl\":[{\"type\":\"heatmapgl\",\"colorbar\":{\"outlinewidth\":0,\"ticks\":\"\"},\"colorscale\":[[0.0,\"#0d0887\"],[0.1111111111111111,\"#46039f\"],[0.2222222222222222,\"#7201a8\"],[0.3333333333333333,\"#9c179e\"],[0.4444444444444444,\"#bd3786\"],[0.5555555555555556,\"#d8576b\"],[0.6666666666666666,\"#ed7953\"],[0.7777777777777778,\"#fb9f3a\"],[0.8888888888888888,\"#fdca26\"],[1.0,\"#f0f921\"]]}],\"contourcarpet\":[{\"type\":\"contourcarpet\",\"colorbar\":{\"outlinewidth\":0,\"ticks\":\"\"}}],\"contour\":[{\"type\":\"contour\",\"colorbar\":{\"outlinewidth\":0,\"ticks\":\"\"},\"colorscale\":[[0.0,\"#0d0887\"],[0.1111111111111111,\"#46039f\"],[0.2222222222222222,\"#7201a8\"],[0.3333333333333333,\"#9c179e\"],[0.4444444444444444,\"#bd3786\"],[0.5555555555555556,\"#d8576b\"],[0.6666666666666666,\"#ed7953\"],[0.7777777777777778,\"#fb9f3a\"],[0.8888888888888888,\"#fdca26\"],[1.0,\"#f0f921\"]]}],\"surface\":[{\"type\":\"surface\",\"colorbar\":{\"outlinewidth\":0,\"ticks\":\"\"},\"colorscale\":[[0.0,\"#0d0887\"],[0.1111111111111111,\"#46039f\"],[0.2222222222222222,\"#7201a8\"],[0.3333333333333333,\"#9c179e\"],[0.4444444444444444,\"#bd3786\"],[0.5555555555555556,\"#d8576b\"],[0.6666666666666666,\"#ed7953\"],[0.7777777777777778,\"#fb9f3a\"],[0.8888888888888888,\"#fdca26\"],[1.0,\"#f0f921\"]]}],\"mesh3d\":[{\"type\":\"mesh3d\",\"colorbar\":{\"outlinewidth\":0,\"ticks\":\"\"}}],\"scatter\":[{\"fillpattern\":{\"fillmode\":\"overlay\",\"size\":10,\"solidity\":0.2},\"type\":\"scatter\"}],\"parcoords\":[{\"type\":\"parcoords\",\"line\":{\"colorbar\":{\"outlinewidth\":0,\"ticks\":\"\"}}}],\"scatterpolargl\":[{\"type\":\"scatterpolargl\",\"marker\":{\"colorbar\":{\"outlinewidth\":0,\"ticks\":\"\"}}}],\"bar\":[{\"error_x\":{\"color\":\"#2a3f5f\"},\"error_y\":{\"color\":\"#2a3f5f\"},\"marker\":{\"line\":{\"color\":\"#E5ECF6\",\"width\":0.5},\"pattern\":{\"fillmode\":\"overlay\",\"size\":10,\"solidity\":0.2}},\"type\":\"bar\"}],\"scattergeo\":[{\"type\":\"scattergeo\",\"marker\":{\"colorbar\":{\"outlinewidth\":0,\"ticks\":\"\"}}}],\"scatterpolar\":[{\"type\":\"scatterpolar\",\"marker\":{\"colorbar\":{\"outlinewidth\":0,\"ticks\":\"\"}}}],\"histogram\":[{\"marker\":{\"pattern\":{\"fillmode\":\"overlay\",\"size\":10,\"solidity\":0.2}},\"type\":\"histogram\"}],\"scattergl\":[{\"type\":\"scattergl\",\"marker\":{\"colorbar\":{\"outlinewidth\":0,\"ticks\":\"\"}}}],\"scatter3d\":[{\"type\":\"scatter3d\",\"line\":{\"colorbar\":{\"outlinewidth\":0,\"ticks\":\"\"}},\"marker\":{\"colorbar\":{\"outlinewidth\":0,\"ticks\":\"\"}}}],\"scattermapbox\":[{\"type\":\"scattermapbox\",\"marker\":{\"colorbar\":{\"outlinewidth\":0,\"ticks\":\"\"}}}],\"scatterternary\":[{\"type\":\"scatterternary\",\"marker\":{\"colorbar\":{\"outlinewidth\":0,\"ticks\":\"\"}}}],\"scattercarpet\":[{\"type\":\"scattercarpet\",\"marker\":{\"colorbar\":{\"outlinewidth\":0,\"ticks\":\"\"}}}],\"carpet\":[{\"aaxis\":{\"endlinecolor\":\"#2a3f5f\",\"gridcolor\":\"white\",\"linecolor\":\"white\",\"minorgridcolor\":\"white\",\"startlinecolor\":\"#2a3f5f\"},\"baxis\":{\"endlinecolor\":\"#2a3f5f\",\"gridcolor\":\"white\",\"linecolor\":\"white\",\"minorgridcolor\":\"white\",\"startlinecolor\":\"#2a3f5f\"},\"type\":\"carpet\"}],\"table\":[{\"cells\":{\"fill\":{\"color\":\"#EBF0F8\"},\"line\":{\"color\":\"white\"}},\"header\":{\"fill\":{\"color\":\"#C8D4E3\"},\"line\":{\"color\":\"white\"}},\"type\":\"table\"}],\"barpolar\":[{\"marker\":{\"line\":{\"color\":\"#E5ECF6\",\"width\":0.5},\"pattern\":{\"fillmode\":\"overlay\",\"size\":10,\"solidity\":0.2}},\"type\":\"barpolar\"}],\"pie\":[{\"automargin\":true,\"type\":\"pie\"}]},\"layout\":{\"autotypenumbers\":\"strict\",\"colorway\":[\"#636efa\",\"#EF553B\",\"#00cc96\",\"#ab63fa\",\"#FFA15A\",\"#19d3f3\",\"#FF6692\",\"#B6E880\",\"#FF97FF\",\"#FECB52\"],\"font\":{\"color\":\"#2a3f5f\"},\"hovermode\":\"closest\",\"hoverlabel\":{\"align\":\"left\"},\"paper_bgcolor\":\"white\",\"plot_bgcolor\":\"#E5ECF6\",\"polar\":{\"bgcolor\":\"#E5ECF6\",\"angularaxis\":{\"gridcolor\":\"white\",\"linecolor\":\"white\",\"ticks\":\"\"},\"radialaxis\":{\"gridcolor\":\"white\",\"linecolor\":\"white\",\"ticks\":\"\"}},\"ternary\":{\"bgcolor\":\"#E5ECF6\",\"aaxis\":{\"gridcolor\":\"white\",\"linecolor\":\"white\",\"ticks\":\"\"},\"baxis\":{\"gridcolor\":\"white\",\"linecolor\":\"white\",\"ticks\":\"\"},\"caxis\":{\"gridcolor\":\"white\",\"linecolor\":\"white\",\"ticks\":\"\"}},\"coloraxis\":{\"colorbar\":{\"outlinewidth\":0,\"ticks\":\"\"}},\"colorscale\":{\"sequential\":[[0.0,\"#0d0887\"],[0.1111111111111111,\"#46039f\"],[0.2222222222222222,\"#7201a8\"],[0.3333333333333333,\"#9c179e\"],[0.4444444444444444,\"#bd3786\"],[0.5555555555555556,\"#d8576b\"],[0.6666666666666666,\"#ed7953\"],[0.7777777777777778,\"#fb9f3a\"],[0.8888888888888888,\"#fdca26\"],[1.0,\"#f0f921\"]],\"sequentialminus\":[[0.0,\"#0d0887\"],[0.1111111111111111,\"#46039f\"],[0.2222222222222222,\"#7201a8\"],[0.3333333333333333,\"#9c179e\"],[0.4444444444444444,\"#bd3786\"],[0.5555555555555556,\"#d8576b\"],[0.6666666666666666,\"#ed7953\"],[0.7777777777777778,\"#fb9f3a\"],[0.8888888888888888,\"#fdca26\"],[1.0,\"#f0f921\"]],\"diverging\":[[0,\"#8e0152\"],[0.1,\"#c51b7d\"],[0.2,\"#de77ae\"],[0.3,\"#f1b6da\"],[0.4,\"#fde0ef\"],[0.5,\"#f7f7f7\"],[0.6,\"#e6f5d0\"],[0.7,\"#b8e186\"],[0.8,\"#7fbc41\"],[0.9,\"#4d9221\"],[1,\"#276419\"]]},\"xaxis\":{\"gridcolor\":\"white\",\"linecolor\":\"white\",\"ticks\":\"\",\"title\":{\"standoff\":15},\"zerolinecolor\":\"white\",\"automargin\":true,\"zerolinewidth\":2},\"yaxis\":{\"gridcolor\":\"white\",\"linecolor\":\"white\",\"ticks\":\"\",\"title\":{\"standoff\":15},\"zerolinecolor\":\"white\",\"automargin\":true,\"zerolinewidth\":2},\"scene\":{\"xaxis\":{\"backgroundcolor\":\"#E5ECF6\",\"gridcolor\":\"white\",\"linecolor\":\"white\",\"showbackground\":true,\"ticks\":\"\",\"zerolinecolor\":\"white\",\"gridwidth\":2},\"yaxis\":{\"backgroundcolor\":\"#E5ECF6\",\"gridcolor\":\"white\",\"linecolor\":\"white\",\"showbackground\":true,\"ticks\":\"\",\"zerolinecolor\":\"white\",\"gridwidth\":2},\"zaxis\":{\"backgroundcolor\":\"#E5ECF6\",\"gridcolor\":\"white\",\"linecolor\":\"white\",\"showbackground\":true,\"ticks\":\"\",\"zerolinecolor\":\"white\",\"gridwidth\":2}},\"shapedefaults\":{\"line\":{\"color\":\"#2a3f5f\"}},\"annotationdefaults\":{\"arrowcolor\":\"#2a3f5f\",\"arrowhead\":0,\"arrowwidth\":1},\"geo\":{\"bgcolor\":\"white\",\"landcolor\":\"#E5ECF6\",\"subunitcolor\":\"white\",\"showland\":true,\"showlakes\":true,\"lakecolor\":\"white\"},\"title\":{\"x\":0.05},\"mapbox\":{\"style\":\"light\"}}},\"xaxis\":{\"anchor\":\"y\",\"domain\":[0.0,1.0],\"tickangle\":90,\"title\":{\"text\":\"Average DEF 90-90\"}},\"yaxis\":{\"anchor\":\"x\",\"domain\":[0.0,1.0],\"categoryorder\":\"total ascending\",\"title\":{\"text\":\"Character Name\"}},\"title\":{\"text\":\"Average DEF 90-90 by Character\"}},                        {\"responsive\": true}                    ).then(function(){\n",
              "                            \n",
              "var gd = document.getElementById('e2cb1745-b227-4d2f-bbe0-e56f246a655c');\n",
              "var x = new MutationObserver(function (mutations, observer) {{\n",
              "        var display = window.getComputedStyle(gd).display;\n",
              "        if (!display || display === 'none') {{\n",
              "            console.log([gd, 'removed!']);\n",
              "            Plotly.purge(gd);\n",
              "            observer.disconnect();\n",
              "        }}\n",
              "}});\n",
              "\n",
              "// Listen for the removal of the full notebook cells\n",
              "var notebookContainer = gd.closest('#notebook-container');\n",
              "if (notebookContainer) {{\n",
              "    x.observe(notebookContainer, {childList: true});\n",
              "}}\n",
              "\n",
              "// Listen for the clearing of the current output cell\n",
              "var outputEl = gd.closest('.output');\n",
              "if (outputEl) {{\n",
              "    x.observe(outputEl, {childList: true});\n",
              "}}\n",
              "\n",
              "                        })                };                            </script>        </div>\n",
              "</body>\n",
              "</html>"
            ]
          },
          "metadata": {}
        }
      ]
    }
  ]
}